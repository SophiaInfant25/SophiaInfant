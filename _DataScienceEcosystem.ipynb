{
 "cells": [
  {
   "cell_type": "markdown",
   "id": "de842e8c-726c-4bf1-912f-d2d07273370c",
   "metadata": {},
   "source": [
    "# Data Science Tools and Ecosystem"
   ]
  },
  {
   "cell_type": "markdown",
   "id": "30c633a5-f33a-40a8-8217-1e6b3e55ae91",
   "metadata": {},
   "source": [
    "In this notebook, Data Science Tools and Ecosystem are summarized."
   ]
  },
  {
   "cell_type": "markdown",
   "id": "3dc2d13a-8b91-46ae-86d1-fc792be05bb9",
   "metadata": {
    "tags": []
   },
   "source": [
    "Some popular Languages that Data Scientists use are:\n",
    "1.Python\n",
    "2.R\n",
    "3.SQL\n",
    "4.C++\n",
    "5.Java etc,."
   ]
  },
  {
   "cell_type": "markdown",
   "id": "c61efbe2-8bde-46c8-99fc-638c18073620",
   "metadata": {
    "tags": []
   },
   "source": [
    "Some of the commonly used libraries used by Data Scientists include:\n",
    "    1.Tensorflow.\n",
    "    2.Numpy.\n",
    "    3.SciPy.\n",
    "    4.Pandas.\n",
    "    5.Matplotlib.\n",
    "    6.Keras"
   ]
  },
  {
   "cell_type": "markdown",
   "id": "963257b3-0222-46d0-8376-272b3f005a3c",
   "metadata": {
    "tags": []
   },
   "source": [
    "|Data Science Tools|\n",
    "|---|\n",
    "|SAS|\n",
    "|Apache Hadoop|\n",
    "|Tensorflow|"
   ]
  },
  {
   "cell_type": "markdown",
   "id": "fc0c8d70-8090-47ce-8aef-5a14a78e8b8b",
   "metadata": {},
   "source": [
    "Below are a few examples of evaluating arithmetic expressions in Python"
   ]
  },
  {
   "cell_type": "markdown",
   "id": "ba04dfb0-c658-4ecf-98c2-c3b05aef141b",
   "metadata": {},
   "source": [
    "# ADDITION"
   ]
  },
  {
   "cell_type": "code",
   "execution_count": 1,
   "id": "3e304ea4-6d98-4a28-b3a1-636ade3aed44",
   "metadata": {
    "tags": []
   },
   "outputs": [
    {
     "name": "stdout",
     "output_type": "stream",
     "text": [
      "Addition: 15\n"
     ]
    }
   ],
   "source": [
    "result_addition = 10 + 5\n",
    "print(\"Addition:\", result_addition) "
   ]
  },
  {
   "cell_type": "markdown",
   "id": "d243a5c1-44a6-4600-870a-5c2c62617c3e",
   "metadata": {},
   "source": [
    "# SUBTRACTION"
   ]
  },
  {
   "cell_type": "code",
   "execution_count": null,
   "id": "f4d3b8ee-28f8-415e-b89f-99f81dbda2ed",
   "metadata": {},
   "outputs": [],
   "source": [
    "result_subtraction = 20 - 8\n",
    "print(\"Subtraction:\", result_subtraction) "
   ]
  },
  {
   "cell_type": "markdown",
   "id": "d2cbb289-5ee7-4c85-bec1-80839bbc5663",
   "metadata": {},
   "source": [
    "# MULTIPLICATION"
   ]
  },
  {
   "cell_type": "code",
   "execution_count": 2,
   "id": "3bb08fc8-d3df-437b-a41f-70d153b082ff",
   "metadata": {
    "tags": []
   },
   "outputs": [
    {
     "name": "stdout",
     "output_type": "stream",
     "text": [
      "Multiplication: 28\n"
     ]
    }
   ],
   "source": [
    "result_multiplication = 7 * 4\n",
    "print(\"Multiplication:\", result_multiplication) "
   ]
  },
  {
   "cell_type": "markdown",
   "id": "0c1ec3ba-dd99-4837-82e5-89ab2213661c",
   "metadata": {},
   "source": [
    "# DIVISION"
   ]
  },
  {
   "cell_type": "code",
   "execution_count": 3,
   "id": "21d999f4-ddfc-442d-a6bd-dc2958881e2e",
   "metadata": {
    "tags": []
   },
   "outputs": [
    {
     "name": "stdout",
     "output_type": "stream",
     "text": [
      "Division: 5.0\n"
     ]
    }
   ],
   "source": [
    "result_division = 50 / 10\n",
    "print(\"Division:\", result_division)"
   ]
  },
  {
   "cell_type": "markdown",
   "id": "bf565add-7521-4cbf-a2eb-c95c278a7dac",
   "metadata": {},
   "source": [
    "This is a simple arithmetic expression to multiply then add integers."
   ]
  },
  {
   "cell_type": "code",
   "execution_count": 4,
   "id": "01aba901-57a9-4d20-9542-efecf247802c",
   "metadata": {
    "tags": []
   },
   "outputs": [
    {
     "name": "stdout",
     "output_type": "stream",
     "text": [
      "17\n"
     ]
    }
   ],
   "source": [
    "result = (3 * 4) + 5\n",
    "print(result)  "
   ]
  },
  {
   "cell_type": "code",
   "execution_count": 5,
   "id": "31952e7d-765a-4722-a872-31b58f71a44b",
   "metadata": {
    "tags": []
   },
   "outputs": [
    {
     "name": "stdout",
     "output_type": "stream",
     "text": [
      "3.3333333333333335\n"
     ]
    }
   ],
   "source": [
    "minutes=200\n",
    "hour=minutes/60\n",
    "print(hour)"
   ]
  },
  {
   "cell_type": "markdown",
   "id": "7880820e-744d-456c-838a-86ec5394e3fb",
   "metadata": {},
   "source": [
    "# Objectives:"
   ]
  },
  {
   "cell_type": "markdown",
   "id": "749b8e54-5bcf-4e90-90f9-a8ae52562d55",
   "metadata": {},
   "source": [
    "- List popular languages for Data Science.\n",
    "- Explore common libraries and frameworks used in Data Science.\n",
    "- Understand key concepts in data manipulation and analysis.\n",
    "- Introduce machine learning algorithms and techniques.\n",
    "- Discuss best practices for data visualization and presentation.\n"
   ]
  },
  {
   "cell_type": "markdown",
   "id": "f415befc-b79a-4edf-bcda-f6aae4ffe7df",
   "metadata": {},
   "source": [
    "# AUTHOR\n",
    "sophia Infant"
   ]
  },
  {
   "cell_type": "code",
   "execution_count": null,
   "id": "6dda5576-1eb2-46bb-b26e-d8d9713033b8",
   "metadata": {},
   "outputs": [],
   "source": []
  }
 ],
 "metadata": {
  "kernelspec": {
   "display_name": "Python",
   "language": "python",
   "name": "conda-env-python-py"
  },
  "language_info": {
   "codemirror_mode": {
    "name": "ipython",
    "version": 3
   },
   "file_extension": ".py",
   "mimetype": "text/x-python",
   "name": "python",
   "nbconvert_exporter": "python",
   "pygments_lexer": "ipython3",
   "version": "3.7.12"
  }
 },
 "nbformat": 4,
 "nbformat_minor": 5
}
